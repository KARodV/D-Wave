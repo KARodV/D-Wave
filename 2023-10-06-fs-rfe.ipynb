{
 "cells": [
  {
   "cell_type": "markdown",
   "metadata": {},
   "source": [
    "# RFE with LightGBM Implementation (coreDevX)\n",
    "In this notebook, we will explore feature selection using Recursive Feature Elimination (RFE) with LightGBM (Light Gradient Boosting Machine). RFE is an efficient algorithm that selects the most relevant features by recursively considering smaller sets of features. LightGBM is a gradient boosting framework that is known for its efficiency and effectiveness. We'll leverage these tools to identify the most important features for a given machine learning model."
   ]
  },
  {
   "cell_type": "code",
   "execution_count": 1,
   "metadata": {},
   "outputs": [],
   "source": [
    "# Importing Necessary Libraries\n",
    "import pandas as pd\n",
    "from sklearn.model_selection import train_test_split\n",
    "from sklearn.feature_selection import RFE\n",
    "from lightgbm import LGBMClassifier"
   ]
  },
  {
   "cell_type": "code",
   "execution_count": 2,
   "metadata": {},
   "outputs": [],
   "source": [
    "# Here a demo data\n",
    "df = pd.read_csv('UCI_Credit_Card.csv')\n",
    "X = df.drop(['default.payment.next.month', 'ID'], axis=\"columns\")\n",
    "y = df['default.payment.next.month']"
   ]
  },
  {
   "cell_type": "code",
   "execution_count": 3,
   "metadata": {},
   "outputs": [],
   "source": [
    "# Split to select the features only in train sets\n",
    "X_train, X_test, y_train, y_test = train_test_split(X, y, test_size=0.2, random_state=42)"
   ]
  },
  {
   "cell_type": "code",
   "execution_count": 4,
   "metadata": {},
   "outputs": [],
   "source": [
    "# Set the number of features to be selected\n",
    "n_features = 10"
   ]
  },
  {
   "cell_type": "code",
   "execution_count": 5,
   "metadata": {},
   "outputs": [],
   "source": [
    "# Feature selection with RFE and LightGBM\n",
    "estimator = LGBMClassifier(n_jobs=-1, num_leaves=31, max_depth=-1, min_child_samples=20, subsample=0.8, colsample_bytree=0.8, learning_rate=0.1, n_estimators=100)\n",
    "selector_rfe_lgbm = RFE(estimator, n_features_to_select=n_features, step=1)\n",
    "selector_rfe_lgbm = selector_rfe_lgbm.fit(X, y)\n",
    "vector_names_rfe_lgbm = list(X.columns[selector_rfe_lgbm.support_])"
   ]
  },
  {
   "cell_type": "code",
   "execution_count": 6,
   "metadata": {},
   "outputs": [],
   "source": [
    "# Extracting the selected feature to create new train and test sets\n",
    "X_train_rfe = X_train[vector_names_rfe_lgbm]\n",
    "X_test_rfe = X_test[vector_names_rfe_lgbm]"
   ]
  },
  {
   "cell_type": "code",
   "execution_count": 7,
   "metadata": {},
   "outputs": [
    {
     "name": "stdout",
     "output_type": "stream",
     "text": [
      "Selected Features using RFE:\n",
      "LIMIT_BAL\n",
      "AGE\n",
      "BILL_AMT1\n",
      "BILL_AMT2\n",
      "BILL_AMT4\n",
      "BILL_AMT5\n",
      "BILL_AMT6\n",
      "PAY_AMT1\n",
      "PAY_AMT2\n",
      "PAY_AMT3\n"
     ]
    }
   ],
   "source": [
    "# Displaying Selected Features\n",
    "print(\"Selected Features using RFE:\")\n",
    "for feature in vector_names_rfe_lgbm:\n",
    "    print(feature)"
   ]
  }
 ],
 "metadata": {
  "kernelspec": {
   "display_name": "qkt-tookit",
   "language": "python",
   "name": "python3"
  },
  "language_info": {
   "codemirror_mode": {
    "name": "ipython",
    "version": 3
   },
   "file_extension": ".py",
   "mimetype": "text/x-python",
   "name": "python",
   "nbconvert_exporter": "python",
   "pygments_lexer": "ipython3",
   "version": "3.9.12"
  },
  "orig_nbformat": 4
 },
 "nbformat": 4,
 "nbformat_minor": 2
}
